{
 "cells": [
  {
   "cell_type": "code",
   "execution_count": 46,
   "id": "7b544c9c",
   "metadata": {},
   "outputs": [],
   "source": [
    "import numpy as np\n",
    "from scipy import stats\n",
    "import matplotlib.pyplot as plt\n",
    "import seaborn as sns"
   ]
  },
  {
   "cell_type": "markdown",
   "id": "441ab107",
   "metadata": {},
   "source": [
    "EXERCISE 1. What is the normal body temperature for healthy humans? A random sample of 130 healthy human body temperatures provided by Allen Shoemaker yielded 98.25 degrees and standard deviation 0.73 degrees.\n",
    "\n",
    "Give a 99% confidence interval for the average body temperature of healthy people."
   ]
  },
  {
   "cell_type": "code",
   "execution_count": 47,
   "id": "d5eb80a6",
   "metadata": {},
   "outputs": [],
   "source": [
    "n = 130\n",
    "mean = 98.25\n",
    "s = 0.73"
   ]
  },
  {
   "cell_type": "code",
   "execution_count": 48,
   "id": "d07a4243",
   "metadata": {},
   "outputs": [
    {
     "data": {
      "text/plain": [
       "0.06402523540941313"
      ]
     },
     "execution_count": 48,
     "metadata": {},
     "output_type": "execute_result"
    }
   ],
   "source": [
    "sem = s / np.sqrt(n)\n",
    "sem "
   ]
  },
  {
   "cell_type": "code",
   "execution_count": 49,
   "id": "aaca80af",
   "metadata": {},
   "outputs": [
    {
     "data": {
      "text/plain": [
       "0.16492900641464822"
      ]
     },
     "execution_count": 49,
     "metadata": {},
     "output_type": "execute_result"
    }
   ],
   "source": [
    "# z for 99% of confidence interval is 2.576\n",
    "moe = 2.576 * sem\n",
    "moe"
   ]
  },
  {
   "cell_type": "code",
   "execution_count": 50,
   "id": "0cb2e116",
   "metadata": {},
   "outputs": [
    {
     "data": {
      "text/plain": [
       "0.16"
      ]
     },
     "execution_count": 50,
     "metadata": {},
     "output_type": "execute_result"
    }
   ],
   "source": [
    "round(moe, 2)"
   ]
  },
  {
   "cell_type": "code",
   "execution_count": 51,
   "id": "14396eaa",
   "metadata": {},
   "outputs": [],
   "source": [
    "a = 98.25 + 0.16\n",
    "b = 98.25 - 0.16"
   ]
  },
  {
   "cell_type": "code",
   "execution_count": 52,
   "id": "8731561f",
   "metadata": {},
   "outputs": [
    {
     "data": {
      "text/plain": [
       "(98.41, 98.09)"
      ]
     },
     "execution_count": 52,
     "metadata": {},
     "output_type": "execute_result"
    }
   ],
   "source": [
    "interval1 = (a, b)\n",
    "interval1"
   ]
  },
  {
   "cell_type": "markdown",
   "id": "f795c346",
   "metadata": {},
   "source": [
    "EXERCISE 2. The administrators for a hospital wished to estimate the average number of days required for inpatient treatment of patients between the ages of 25 and 34. A random sample of 500 hospital patients between these ages produced a mean and standard deviation equal to 5.4 and 3.1 days, respectively.\n",
    "\n",
    "Construct a 95% confidence interval for the mean length of stay for the population of patients from which the sample was drawn."
   ]
  },
  {
   "cell_type": "code",
   "execution_count": 53,
   "id": "c1349fb2",
   "metadata": {},
   "outputs": [],
   "source": [
    "n = 500\n",
    "xbar = 5.4\n",
    "s =3.1\n",
    "z = 1.96 # for 99% of confidence interval"
   ]
  },
  {
   "cell_type": "code",
   "execution_count": 55,
   "id": "82e7fb41",
   "metadata": {},
   "outputs": [],
   "source": [
    "c = xbar + z * s / np.sqrt(n)\n",
    "d = xbar - z * s / np.sqrt(n)"
   ]
  },
  {
   "cell_type": "code",
   "execution_count": 56,
   "id": "8397e4ce",
   "metadata": {},
   "outputs": [
    {
     "data": {
      "text/plain": [
       "(5.671726980625775, 5.128273019374226)"
      ]
     },
     "execution_count": 56,
     "metadata": {},
     "output_type": "execute_result"
    }
   ],
   "source": [
    "interval2 = (c, d)\n",
    "interval2"
   ]
  },
  {
   "cell_type": "markdown",
   "id": "c0cd30ce",
   "metadata": {},
   "source": [
    "EXERCISE 3. The hourly wages in a particular industry are normally distributed with mean $13.20 and standard deviation $2.50. A company in this industry employs 40 workers, paying them an average of $12.20 per hour. Can this company be accused of paying substandard wages? Use an α = .01 level test. "
   ]
  },
  {
   "cell_type": "code",
   "execution_count": 80,
   "id": "f1749a6b",
   "metadata": {},
   "outputs": [],
   "source": [
    "n = 40\n",
    "mu = 13.20\n",
    "H0: mu = 13.20\n",
    "H1: mu < 13.20\n",
    "xbar = 12.50\n",
    "s = 2.50\n",
    "a = 0.01"
   ]
  },
  {
   "cell_type": "code",
   "execution_count": 81,
   "id": "6c61318a",
   "metadata": {},
   "outputs": [
    {
     "data": {
      "text/plain": [
       "-1.7708754896942909"
      ]
     },
     "execution_count": 81,
     "metadata": {},
     "output_type": "execute_result"
    }
   ],
   "source": [
    "test = (xbar - mu) / (s/np.sqrt(n))\n",
    "test"
   ]
  },
  {
   "cell_type": "code",
   "execution_count": 84,
   "id": "339964e9",
   "metadata": {},
   "outputs": [
    {
     "data": {
      "text/plain": [
       "0.9617092954821649"
      ]
     },
     "execution_count": 84,
     "metadata": {},
     "output_type": "execute_result"
    }
   ],
   "source": [
    "p_value = 1 - stats.norm.cdf(test)\n",
    "p_value"
   ]
  },
  {
   "cell_type": "code",
   "execution_count": null,
   "id": "01486741",
   "metadata": {},
   "outputs": [],
   "source": []
  },
  {
   "cell_type": "code",
   "execution_count": null,
   "id": "be79aabe",
   "metadata": {},
   "outputs": [],
   "source": []
  },
  {
   "cell_type": "code",
   "execution_count": null,
   "id": "9c66990e",
   "metadata": {},
   "outputs": [],
   "source": []
  }
 ],
 "metadata": {
  "kernelspec": {
   "display_name": "Python 3 (ipykernel)",
   "language": "python",
   "name": "python3"
  },
  "language_info": {
   "codemirror_mode": {
    "name": "ipython",
    "version": 3
   },
   "file_extension": ".py",
   "mimetype": "text/x-python",
   "name": "python",
   "nbconvert_exporter": "python",
   "pygments_lexer": "ipython3",
   "version": "3.9.12"
  }
 },
 "nbformat": 4,
 "nbformat_minor": 5
}
